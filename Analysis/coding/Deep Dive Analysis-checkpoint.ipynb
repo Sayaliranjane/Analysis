{
 "cells": [
  {
   "cell_type": "code",
   "execution_count": 3,
   "metadata": {},
   "outputs": [
    {
     "data": {
      "text/html": [
       "<div>\n",
       "<style scoped>\n",
       "    .dataframe tbody tr th:only-of-type {\n",
       "        vertical-align: middle;\n",
       "    }\n",
       "\n",
       "    .dataframe tbody tr th {\n",
       "        vertical-align: top;\n",
       "    }\n",
       "\n",
       "    .dataframe thead th {\n",
       "        text-align: right;\n",
       "    }\n",
       "</style>\n",
       "<table border=\"1\" class=\"dataframe\">\n",
       "  <thead>\n",
       "    <tr style=\"text-align: right;\">\n",
       "      <th></th>\n",
       "      <th>Zone</th>\n",
       "      <th>Region</th>\n",
       "      <th>Manufacturer</th>\n",
       "      <th>Brand</th>\n",
       "      <th>Subbrand</th>\n",
       "      <th>Item</th>\n",
       "      <th>PackSize</th>\n",
       "      <th>Packtype</th>\n",
       "      <th>month</th>\n",
       "      <th>Value Offtake(000 Rs)</th>\n",
       "    </tr>\n",
       "  </thead>\n",
       "  <tbody>\n",
       "    <tr>\n",
       "      <th>0</th>\n",
       "      <td>East</td>\n",
       "      <td>Rural</td>\n",
       "      <td>GLAXOSMITHKLINE</td>\n",
       "      <td>HORLICKS</td>\n",
       "      <td>HORLICKS LITE</td>\n",
       "      <td>HORLICKS LITE 500 GMS REFILL PACK</td>\n",
       "      <td>500 GMS</td>\n",
       "      <td>REFILL PACK</td>\n",
       "      <td>2019-01-01</td>\n",
       "      <td>4883.050</td>\n",
       "    </tr>\n",
       "    <tr>\n",
       "      <th>1</th>\n",
       "      <td>East</td>\n",
       "      <td>Rural</td>\n",
       "      <td>GLAXOSMITHKLINE</td>\n",
       "      <td>HORLICKS</td>\n",
       "      <td>WOMENS HORLICKS</td>\n",
       "      <td>WOMENS HORLICKS 500 GMS REFILL PACK</td>\n",
       "      <td>500 GMS</td>\n",
       "      <td>REFILL PACK</td>\n",
       "      <td>2019-01-01</td>\n",
       "      <td>4460.013</td>\n",
       "    </tr>\n",
       "    <tr>\n",
       "      <th>2</th>\n",
       "      <td>East</td>\n",
       "      <td>Rural</td>\n",
       "      <td>GLAXOSMITHKLINE</td>\n",
       "      <td>BOOST</td>\n",
       "      <td>BOOST SPORTS</td>\n",
       "      <td>BOOST SPORTS 500 GMS REFILL PACK</td>\n",
       "      <td>500 GMS</td>\n",
       "      <td>REFILL PACK</td>\n",
       "      <td>2019-01-01</td>\n",
       "      <td>3230.254</td>\n",
       "    </tr>\n",
       "    <tr>\n",
       "      <th>3</th>\n",
       "      <td>East</td>\n",
       "      <td>Rural</td>\n",
       "      <td>GLAXOSMITHKLINE</td>\n",
       "      <td>HORLICKS</td>\n",
       "      <td>HORLICKS HEALTH AND NUTRITION</td>\n",
       "      <td>HORLICKS HEALTH AND NUTRITION 500 GMS REFILL PACK</td>\n",
       "      <td>500 GMS</td>\n",
       "      <td>REFILL PACK</td>\n",
       "      <td>2019-01-01</td>\n",
       "      <td>4548.961</td>\n",
       "    </tr>\n",
       "    <tr>\n",
       "      <th>4</th>\n",
       "      <td>East</td>\n",
       "      <td>Rural</td>\n",
       "      <td>GLAXOSMITHKLINE</td>\n",
       "      <td>BOOST</td>\n",
       "      <td>BOOST HEALTH AND ENERGY</td>\n",
       "      <td>BOOST HEALTH AND ENERGYÂ  500 GMS REFILL PACK</td>\n",
       "      <td>500 GMS</td>\n",
       "      <td>REFILL PACK</td>\n",
       "      <td>2019-01-01</td>\n",
       "      <td>2993.130</td>\n",
       "    </tr>\n",
       "    <tr>\n",
       "      <th>...</th>\n",
       "      <td>...</td>\n",
       "      <td>...</td>\n",
       "      <td>...</td>\n",
       "      <td>...</td>\n",
       "      <td>...</td>\n",
       "      <td>...</td>\n",
       "      <td>...</td>\n",
       "      <td>...</td>\n",
       "      <td>...</td>\n",
       "      <td>...</td>\n",
       "    </tr>\n",
       "    <tr>\n",
       "      <th>1275</th>\n",
       "      <td>West</td>\n",
       "      <td>Urban</td>\n",
       "      <td>NESTLE</td>\n",
       "      <td>MILO</td>\n",
       "      <td>MILO ACTIVE GO</td>\n",
       "      <td>MILO ACTIVE GO 400 GMS REFILL PACK</td>\n",
       "      <td>400 GMS</td>\n",
       "      <td>REFILL PACK</td>\n",
       "      <td>2019-05-01</td>\n",
       "      <td>954.106</td>\n",
       "    </tr>\n",
       "    <tr>\n",
       "      <th>1276</th>\n",
       "      <td>West</td>\n",
       "      <td>Urban</td>\n",
       "      <td>NESTLE</td>\n",
       "      <td>MILO</td>\n",
       "      <td>MILO ACTIVE GO</td>\n",
       "      <td>NESTLE_item_1</td>\n",
       "      <td>400 GMS</td>\n",
       "      <td>REFILL PACK</td>\n",
       "      <td>2019-05-01</td>\n",
       "      <td>361.682</td>\n",
       "    </tr>\n",
       "    <tr>\n",
       "      <th>1277</th>\n",
       "      <td>West</td>\n",
       "      <td>Urban</td>\n",
       "      <td>NESTLE</td>\n",
       "      <td>MILO</td>\n",
       "      <td>MILO ACTIVE GO</td>\n",
       "      <td>NESTLE_item_2</td>\n",
       "      <td>400 GMS</td>\n",
       "      <td>REFILL PACK</td>\n",
       "      <td>2019-05-01</td>\n",
       "      <td>352.389</td>\n",
       "    </tr>\n",
       "    <tr>\n",
       "      <th>1278</th>\n",
       "      <td>West</td>\n",
       "      <td>Urban</td>\n",
       "      <td>NESTLE</td>\n",
       "      <td>MILO</td>\n",
       "      <td>MILO ACTIVE GO</td>\n",
       "      <td>NESTLE_item_3</td>\n",
       "      <td>400 GMS</td>\n",
       "      <td>REFILL PACK</td>\n",
       "      <td>2019-05-01</td>\n",
       "      <td>320.917</td>\n",
       "    </tr>\n",
       "    <tr>\n",
       "      <th>1279</th>\n",
       "      <td>West</td>\n",
       "      <td>Urban</td>\n",
       "      <td>NESTLE</td>\n",
       "      <td>MILO</td>\n",
       "      <td>MILO ACTIVE GO</td>\n",
       "      <td>NESTLE_item_4</td>\n",
       "      <td>400 GMS</td>\n",
       "      <td>REFILL PACK</td>\n",
       "      <td>2019-05-01</td>\n",
       "      <td>245.041</td>\n",
       "    </tr>\n",
       "  </tbody>\n",
       "</table>\n",
       "<p>1280 rows × 10 columns</p>\n",
       "</div>"
      ],
      "text/plain": [
       "      Zone Region     Manufacturer     Brand                       Subbrand  \\\n",
       "0     East  Rural  GLAXOSMITHKLINE  HORLICKS                  HORLICKS LITE   \n",
       "1     East  Rural  GLAXOSMITHKLINE  HORLICKS                WOMENS HORLICKS   \n",
       "2     East  Rural  GLAXOSMITHKLINE     BOOST                   BOOST SPORTS   \n",
       "3     East  Rural  GLAXOSMITHKLINE  HORLICKS  HORLICKS HEALTH AND NUTRITION   \n",
       "4     East  Rural  GLAXOSMITHKLINE     BOOST        BOOST HEALTH AND ENERGY   \n",
       "...    ...    ...              ...       ...                            ...   \n",
       "1275  West  Urban           NESTLE      MILO                 MILO ACTIVE GO   \n",
       "1276  West  Urban           NESTLE      MILO                 MILO ACTIVE GO   \n",
       "1277  West  Urban           NESTLE      MILO                 MILO ACTIVE GO   \n",
       "1278  West  Urban           NESTLE      MILO                 MILO ACTIVE GO   \n",
       "1279  West  Urban           NESTLE      MILO                 MILO ACTIVE GO   \n",
       "\n",
       "                                                   Item PackSize     Packtype  \\\n",
       "0                     HORLICKS LITE 500 GMS REFILL PACK  500 GMS  REFILL PACK   \n",
       "1                   WOMENS HORLICKS 500 GMS REFILL PACK  500 GMS  REFILL PACK   \n",
       "2                      BOOST SPORTS 500 GMS REFILL PACK  500 GMS  REFILL PACK   \n",
       "3     HORLICKS HEALTH AND NUTRITION 500 GMS REFILL PACK  500 GMS  REFILL PACK   \n",
       "4         BOOST HEALTH AND ENERGYÂ  500 GMS REFILL PACK  500 GMS  REFILL PACK   \n",
       "...                                                 ...      ...          ...   \n",
       "1275                 MILO ACTIVE GO 400 GMS REFILL PACK  400 GMS  REFILL PACK   \n",
       "1276                                      NESTLE_item_1  400 GMS  REFILL PACK   \n",
       "1277                                      NESTLE_item_2  400 GMS  REFILL PACK   \n",
       "1278                                      NESTLE_item_3  400 GMS  REFILL PACK   \n",
       "1279                                      NESTLE_item_4  400 GMS  REFILL PACK   \n",
       "\n",
       "          month  Value Offtake(000 Rs)  \n",
       "0    2019-01-01               4883.050  \n",
       "1    2019-01-01               4460.013  \n",
       "2    2019-01-01               3230.254  \n",
       "3    2019-01-01               4548.961  \n",
       "4    2019-01-01               2993.130  \n",
       "...         ...                    ...  \n",
       "1275 2019-05-01                954.106  \n",
       "1276 2019-05-01                361.682  \n",
       "1277 2019-05-01                352.389  \n",
       "1278 2019-05-01                320.917  \n",
       "1279 2019-05-01                245.041  \n",
       "\n",
       "[1280 rows x 10 columns]"
      ]
     },
     "execution_count": 3,
     "metadata": {},
     "output_type": "execute_result"
    }
   ],
   "source": [
    "import numpy as np\n",
    "import pandas as pd\n",
    "deep_dive=pd.read_excel(r\"C:\\Users\\91771\\Downloads\\Case Study - Deep Dive Analysis.xlsx\",sheet_name=\"input_data\")\n",
    "deep_dive"
   ]
  },
  {
   "cell_type": "code",
   "execution_count": 4,
   "metadata": {},
   "outputs": [
    {
     "data": {
      "text/plain": [
       "month\n",
       "2019-01-01    266801.042\n",
       "2019-02-01    260663.817\n",
       "2019-03-01    239583.087\n",
       "2019-04-01    218286.073\n",
       "2019-05-01    240328.269\n",
       "Name: Value Offtake(000 Rs), dtype: float64"
      ]
     },
     "execution_count": 4,
     "metadata": {},
     "output_type": "execute_result"
    }
   ],
   "source": [
    "#step1\n",
    "df1=deep_dive.groupby('month')['Value Offtake(000 Rs)'].sum()\n",
    "df1\n",
    "#there is  drop "
   ]
  },
  {
   "cell_type": "code",
   "execution_count": null,
   "metadata": {},
   "outputs": [],
   "source": []
  },
  {
   "cell_type": "code",
   "execution_count": 5,
   "metadata": {},
   "outputs": [
    {
     "name": "stdout",
     "output_type": "stream",
     "text": [
      "Yes\n"
     ]
    }
   ],
   "source": [
    "if df1.all():\n",
    "    print(\"Yes\")\n",
    "else:\n",
    "    print(\"There is no dop in the sales for a particular manufacture in a specified time period\")\n"
   ]
  },
  {
   "cell_type": "code",
   "execution_count": 6,
   "metadata": {},
   "outputs": [
    {
     "data": {
      "text/html": [
       "<div>\n",
       "<style scoped>\n",
       "    .dataframe tbody tr th:only-of-type {\n",
       "        vertical-align: middle;\n",
       "    }\n",
       "\n",
       "    .dataframe tbody tr th {\n",
       "        vertical-align: top;\n",
       "    }\n",
       "\n",
       "    .dataframe thead th {\n",
       "        text-align: right;\n",
       "    }\n",
       "</style>\n",
       "<table border=\"1\" class=\"dataframe\">\n",
       "  <thead>\n",
       "    <tr style=\"text-align: right;\">\n",
       "      <th>Manufacturer</th>\n",
       "      <th>AMUL</th>\n",
       "      <th>GLAXOSMITHKLINE</th>\n",
       "      <th>KRAFT FOODS</th>\n",
       "      <th>MONDELEZ</th>\n",
       "      <th>NESTLE</th>\n",
       "    </tr>\n",
       "    <tr>\n",
       "      <th>month</th>\n",
       "      <th></th>\n",
       "      <th></th>\n",
       "      <th></th>\n",
       "      <th></th>\n",
       "      <th></th>\n",
       "    </tr>\n",
       "  </thead>\n",
       "  <tbody>\n",
       "    <tr>\n",
       "      <th>2019-01-01</th>\n",
       "      <td>1525.574</td>\n",
       "      <td>201960.379</td>\n",
       "      <td>8865.438</td>\n",
       "      <td>43212.808</td>\n",
       "      <td>11236.843</td>\n",
       "    </tr>\n",
       "    <tr>\n",
       "      <th>2019-02-01</th>\n",
       "      <td>1807.457</td>\n",
       "      <td>197328.072</td>\n",
       "      <td>9815.516</td>\n",
       "      <td>42275.242</td>\n",
       "      <td>9437.530</td>\n",
       "    </tr>\n",
       "    <tr>\n",
       "      <th>2019-03-01</th>\n",
       "      <td>1755.112</td>\n",
       "      <td>176568.680</td>\n",
       "      <td>7318.586</td>\n",
       "      <td>42755.233</td>\n",
       "      <td>11185.476</td>\n",
       "    </tr>\n",
       "    <tr>\n",
       "      <th>2019-04-01</th>\n",
       "      <td>1955.994</td>\n",
       "      <td>158163.671</td>\n",
       "      <td>6751.418</td>\n",
       "      <td>41421.018</td>\n",
       "      <td>9993.972</td>\n",
       "    </tr>\n",
       "    <tr>\n",
       "      <th>2019-05-01</th>\n",
       "      <td>1410.972</td>\n",
       "      <td>176433.256</td>\n",
       "      <td>7617.328</td>\n",
       "      <td>44130.848</td>\n",
       "      <td>10735.865</td>\n",
       "    </tr>\n",
       "  </tbody>\n",
       "</table>\n",
       "</div>"
      ],
      "text/plain": [
       "Manufacturer      AMUL  GLAXOSMITHKLINE  KRAFT FOODS   MONDELEZ     NESTLE\n",
       "month                                                                     \n",
       "2019-01-01    1525.574       201960.379     8865.438  43212.808  11236.843\n",
       "2019-02-01    1807.457       197328.072     9815.516  42275.242   9437.530\n",
       "2019-03-01    1755.112       176568.680     7318.586  42755.233  11185.476\n",
       "2019-04-01    1955.994       158163.671     6751.418  41421.018   9993.972\n",
       "2019-05-01    1410.972       176433.256     7617.328  44130.848  10735.865"
      ]
     },
     "execution_count": 6,
     "metadata": {},
     "output_type": "execute_result"
    }
   ],
   "source": [
    "temp_data = pd.pivot_table(deep_dive,\n",
    "              index='month',\n",
    "              columns='Manufacturer',\n",
    "              values='Value Offtake(000 Rs)',\n",
    "              aggfunc=np.sum)\n",
    "temp_data"
   ]
  },
  {
   "cell_type": "code",
   "execution_count": 7,
   "metadata": {},
   "outputs": [
    {
     "data": {
      "text/plain": [
       "0       January2019\n",
       "1       January2019\n",
       "2       January2019\n",
       "3       January2019\n",
       "4       January2019\n",
       "           ...     \n",
       "1275        May2019\n",
       "1276        May2019\n",
       "1277        May2019\n",
       "1278        May2019\n",
       "1279        May2019\n",
       "Name: new_month, Length: 1280, dtype: object"
      ]
     },
     "execution_count": 7,
     "metadata": {},
     "output_type": "execute_result"
    }
   ],
   "source": [
    "import datetime\n",
    "deep_dive['new_month']=deep_dive['month'].dt.strftime(\"%B%Y\")\n",
    "deep_dive['new_month']"
   ]
  },
  {
   "cell_type": "code",
   "execution_count": 8,
   "metadata": {},
   "outputs": [
    {
     "data": {
      "text/plain": [
       "0    4883.050\n",
       "1    4460.013\n",
       "2    3230.254\n",
       "3    4548.961\n",
       "4    2993.130\n",
       "Name: target_period, dtype: float64"
      ]
     },
     "execution_count": 8,
     "metadata": {},
     "output_type": "execute_result"
    }
   ],
   "source": [
    "deep_dive['target_period']=deep_dive['Value Offtake(000 Rs)']\n",
    "deep_dive['target_period'].head()"
   ]
  },
  {
   "cell_type": "code",
   "execution_count": 9,
   "metadata": {},
   "outputs": [
    {
     "data": {
      "text/plain": [
       "0       4883.050\n",
       "1       4460.013\n",
       "2       3230.254\n",
       "3       4548.961\n",
       "4       2993.130\n",
       "          ...   \n",
       "1275     954.106\n",
       "1276     361.682\n",
       "1277     352.389\n",
       "1278     320.917\n",
       "1279     245.041\n",
       "Name: reference_period, Length: 1280, dtype: float64"
      ]
     },
     "execution_count": 9,
     "metadata": {},
     "output_type": "execute_result"
    }
   ],
   "source": [
    "deep_dive['reference_period']=deep_dive['Value Offtake(000 Rs)']\n",
    "deep_dive['reference_period']"
   ]
  },
  {
   "cell_type": "code",
   "execution_count": null,
   "metadata": {},
   "outputs": [],
   "source": []
  },
  {
   "cell_type": "code",
   "execution_count": 10,
   "metadata": {},
   "outputs": [
    {
     "data": {
      "text/plain": [
       "1410.972"
      ]
     },
     "execution_count": 10,
     "metadata": {},
     "output_type": "execute_result"
    }
   ],
   "source": [
    "a=deep_dive[['new_month','target_period','Manufacturer']]\n",
    "b=a[a['new_month'].isin(['May2019']) & a['Manufacturer'].isin(['AMUL'])]\n",
    "e=b['target_period'].sum()\n",
    "e"
   ]
  },
  {
   "cell_type": "code",
   "execution_count": 11,
   "metadata": {},
   "outputs": [
    {
     "data": {
      "text/plain": [
       "1955.9940000000001"
      ]
     },
     "execution_count": 11,
     "metadata": {},
     "output_type": "execute_result"
    }
   ],
   "source": [
    "c=deep_dive[['new_month','reference_period','Manufacturer']]\n",
    "d=c[c['new_month'].isin(['April2019']) & c['Manufacturer'].isin(['AMUL'])]\n",
    "f=d['reference_period'].sum()\n",
    "f"
   ]
  },
  {
   "cell_type": "code",
   "execution_count": 12,
   "metadata": {},
   "outputs": [
    {
     "name": "stdout",
     "output_type": "stream",
     "text": [
      "-27.864195902441427\n"
     ]
    }
   ],
   "source": [
    "def func(Manufacturer=\"AMUL\",target_period=e,reference_period=f):\n",
    "    growth_rate=(target_period-reference_period)*100/reference_period\n",
    "    print(growth_rate)\n",
    "func()"
   ]
  },
  {
   "cell_type": "code",
   "execution_count": 21,
   "metadata": {},
   "outputs": [],
   "source": [
    "F=e\n",
    "growth_rate=-27.864195902441427"
   ]
  },
  {
   "cell_type": "code",
   "execution_count": 2,
   "metadata": {},
   "outputs": [
    {
     "data": {
      "text/plain": [
       "1225662.2880000002"
      ]
     },
     "execution_count": 2,
     "metadata": {},
     "output_type": "execute_result"
    }
   ],
   "source": [
    "total_value_sales=deep_dive['Value Offtake(000 Rs)'].sum()\n",
    "total_value_sales"
   ]
  },
  {
   "cell_type": "code",
   "execution_count": 17,
   "metadata": {},
   "outputs": [
    {
     "data": {
      "text/plain": [
       "0.0011511914936229153"
      ]
     },
     "execution_count": 17,
     "metadata": {},
     "output_type": "execute_result"
    }
   ],
   "source": [
    "contribution=F/total_value_sales\n",
    "contribution"
   ]
  },
  {
   "cell_type": "code",
   "execution_count": 23,
   "metadata": {},
   "outputs": [
    {
     "data": {
      "text/plain": [
       "-0.03207702529953306"
      ]
     },
     "execution_count": 23,
     "metadata": {},
     "output_type": "execute_result"
    }
   ],
   "source": [
    "product=growth_rate*contribution\n",
    "product"
   ]
  },
  {
   "cell_type": "code",
   "execution_count": 31,
   "metadata": {},
   "outputs": [
    {
     "name": "stdout",
     "output_type": "stream",
     "text": [
      "-28%\n"
     ]
    }
   ],
   "source": [
    "growth_rate_percentage = \"{0:.0%}\".format(growth_rate/100)\n",
    "print(growth_rate_percentage)"
   ]
  },
  {
   "cell_type": "code",
   "execution_count": 46,
   "metadata": {},
   "outputs": [
    {
     "name": "stdout",
     "output_type": "stream",
     "text": [
      "0.12%\n"
     ]
    }
   ],
   "source": [
    "contribution_percentage = \"{:.2%}\".format(contribution)\n",
    "print(contribution_percentage) \n"
   ]
  },
  {
   "cell_type": "code",
   "execution_count": 48,
   "metadata": {},
   "outputs": [
    {
     "name": "stdout",
     "output_type": "stream",
     "text": [
      "-3.21%\n"
     ]
    }
   ],
   "source": [
    "product_percentage = \"{:.2%}\".format(product)\n",
    "print(product_percentage) "
   ]
  },
  {
   "cell_type": "code",
   "execution_count": 64,
   "metadata": {},
   "outputs": [
    {
     "data": {
      "text/html": [
       "<div>\n",
       "<style scoped>\n",
       "    .dataframe tbody tr th:only-of-type {\n",
       "        vertical-align: middle;\n",
       "    }\n",
       "\n",
       "    .dataframe tbody tr th {\n",
       "        vertical-align: top;\n",
       "    }\n",
       "\n",
       "    .dataframe thead th {\n",
       "        text-align: right;\n",
       "    }\n",
       "</style>\n",
       "<table border=\"1\" class=\"dataframe\">\n",
       "  <thead>\n",
       "    <tr style=\"text-align: right;\">\n",
       "      <th></th>\n",
       "      <th>-28%</th>\n",
       "      <th>0.12%</th>\n",
       "      <th>-3.21%</th>\n",
       "    </tr>\n",
       "  </thead>\n",
       "  <tbody>\n",
       "  </tbody>\n",
       "</table>\n",
       "</div>"
      ],
      "text/plain": [
       "Empty DataFrame\n",
       "Columns: [-28%, 0.12%, -3.21%]\n",
       "Index: []"
      ]
     },
     "execution_count": 64,
     "metadata": {},
     "output_type": "execute_result"
    }
   ],
   "source": [
    "#ignore this\n",
    "deep_dive1=pd.DataFrame(columns=[growth_rate_percentage,contribution_percentage,product_percentage])\n",
    "deep_dive1"
   ]
  }
 ],
 "metadata": {
  "kernelspec": {
   "display_name": "Python 3",
   "language": "python",
   "name": "python3"
  },
  "language_info": {
   "codemirror_mode": {
    "name": "ipython",
    "version": 3
   },
   "file_extension": ".py",
   "mimetype": "text/x-python",
   "name": "python",
   "nbconvert_exporter": "python",
   "pygments_lexer": "ipython3",
   "version": "3.8.5"
  }
 },
 "nbformat": 4,
 "nbformat_minor": 4
}
